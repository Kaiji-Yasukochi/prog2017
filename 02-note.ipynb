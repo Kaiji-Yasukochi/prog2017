{
 "cells": [
  {
   "cell_type": "code",
   "execution_count": 23,
   "metadata": {
    "collapsed": false,
    "scrolled": true
   },
   "outputs": [
    {
     "name": "stdout",
     "output_type": "stream",
     "text": [
      "5349\n",
      "5478\n",
      "5344\n",
      "4644\n",
      "4968\n",
      "6259\n"
     ]
    }
   ],
   "source": [
    "list_tohoku = [5349, 5478, 5344, 4644, 4968, 6259]\n",
    "for natto in list_tohoku:\n",
    "    print(natto)"
   ]
  },
  {
   "cell_type": "code",
   "execution_count": 24,
   "metadata": {
    "collapsed": false,
    "scrolled": true
   },
   "outputs": [
    {
     "name": "stdout",
     "output_type": "stream",
     "text": [
      "5340.333333333333\n"
     ]
    }
   ],
   "source": [
    "avg_tohoku = 0.0\n",
    "for val in list_tohoku:\n",
    "    avg_tohoku += val\n",
    "avg_tohoku /= len(list_tohoku)\n",
    "print(avg_tohoku)"
   ]
  },
  {
   "cell_type": "code",
   "execution_count": 41,
   "metadata": {
    "collapsed": false
   },
   "outputs": [
    {
     "name": "stdout",
     "output_type": "stream",
     "text": [
      "2890.5\n"
     ]
    }
   ],
   "source": [
    "from statistics import *\n",
    "print(mean(list_shikoku))"
   ]
  },
  {
   "cell_type": "code",
   "execution_count": 39,
   "metadata": {
    "collapsed": false
   },
   "outputs": [
    {
     "name": "stdout",
     "output_type": "stream",
     "text": [
      "2890.5\n"
     ]
    }
   ],
   "source": [
    "list_shikoku = [3148, 2991, 2966, 2457]\n",
    "avg_shikoku = 0.0\n",
    "for val in list_shikoku:\n",
    "    avg_shikoku += val\n",
    "avg_shikoku /= len(list_shikoku)\n",
    "print(avg_shikoku)"
   ]
  },
  {
   "cell_type": "code",
   "execution_count": 45,
   "metadata": {
    "collapsed": false
   },
   "outputs": [
    {
     "name": "stdout",
     "output_type": "stream",
     "text": [
      "aomori\n",
      "morioka\n",
      "akita\n",
      "fukushima\n",
      "sendai\n",
      "Yamagata\n"
     ]
    }
   ],
   "source": [
    "dict_tohoku = {'aomori': 5349, 'akita': 4644, 'sendai': 5344,\n",
    "'Yamagata': 4968, 'fukushima': 6259, 'morioka': 5478}\n",
    "for msp in dict_tohoku:\n",
    "    print(msp)"
   ]
  },
  {
   "cell_type": "code",
   "execution_count": 50,
   "metadata": {
    "collapsed": false
   },
   "outputs": [
    {
     "ename": "SyntaxError",
     "evalue": "invalid syntax (<ipython-input-50-4afdbea1f1d3>, line 2)",
     "output_type": "error",
     "traceback": [
      "\u001b[1;36m  File \u001b[1;32m\"<ipython-input-50-4afdbea1f1d3>\"\u001b[1;36m, line \u001b[1;32m2\u001b[0m\n\u001b[1;33m    print.(mean(dict_tohoku[key]))\u001b[0m\n\u001b[1;37m          ^\u001b[0m\n\u001b[1;31mSyntaxError\u001b[0m\u001b[1;31m:\u001b[0m invalid syntax\n"
     ]
    }
   ],
   "source": [
    "from statistics import *\n",
    "    print(mean(list_shikoku))"
   ]
  },
  {
   "cell_type": "code",
   "execution_count": 59,
   "metadata": {
    "collapsed": false
   },
   "outputs": [
    {
     "name": "stdout",
     "output_type": "stream",
     "text": [
      "5349\n",
      "5478\n",
      "5344\n",
      "4644\n",
      "4968\n",
      "6259\n"
     ]
    }
   ],
   "source": [
    "for val in list_tohoku:\n",
    "    print(val)"
   ]
  },
  {
   "cell_type": "code",
   "execution_count": 75,
   "metadata": {
    "collapsed": false
   },
   "outputs": [
    {
     "name": "stdout",
     "output_type": "stream",
     "text": [
      "5349\n",
      "5478\n",
      "4644\n",
      "6259\n",
      "5344\n",
      "4968\n"
     ]
    }
   ],
   "source": [
    "for key in dict_tohoku:\n",
    "    print(dict_tohoku[key])"
   ]
  },
  {
   "cell_type": "code",
   "execution_count": 80,
   "metadata": {
    "collapsed": false
   },
   "outputs": [
    {
     "data": {
      "text/plain": [
       "5340.333333333333"
      ]
     },
     "execution_count": 80,
     "metadata": {},
     "output_type": "execute_result"
    }
   ],
   "source": [
    "avg_tohoku=0.0\n",
    "for val in dict_tohoku:\n",
    "    avg_tohoku+=dict_tohoku[val]\n",
    "    \n",
    "avg_tohoku/=len(dict_tohoku)\n",
    "avg_tohoku"
   ]
  },
  {
   "cell_type": "code",
   "execution_count": 93,
   "metadata": {
    "collapsed": false
   },
   "outputs": [
    {
     "name": "stdout",
     "output_type": "stream",
     "text": [
      "dict_values([5349, 5478, 4644, 6259, 5344, 4968])\n"
     ]
    },
    {
     "ename": "TypeError",
     "evalue": "'NoneType' object is not iterable",
     "output_type": "error",
     "traceback": [
      "\u001b[1;31m---------------------------------------------------------------------------\u001b[0m",
      "\u001b[1;31mTypeError\u001b[0m                                 Traceback (most recent call last)",
      "\u001b[1;32m<ipython-input-93-7188403dabd0>\u001b[0m in \u001b[0;36m<module>\u001b[1;34m()\u001b[0m\n\u001b[1;32m----> 1\u001b[1;33m \u001b[0mavg_dict_tohoku\u001b[0m\u001b[1;33m=\u001b[0m\u001b[0msum\u001b[0m\u001b[1;33m(\u001b[0m\u001b[0mprint\u001b[0m\u001b[1;33m(\u001b[0m\u001b[0mdict_tohoku\u001b[0m\u001b[1;33m.\u001b[0m\u001b[0mvalues\u001b[0m\u001b[1;33m(\u001b[0m\u001b[1;33m)\u001b[0m\u001b[1;33m)\u001b[0m\u001b[1;33m)\u001b[0m\u001b[1;33m/\u001b[0m\u001b[0mlen\u001b[0m\u001b[1;33m(\u001b[0m\u001b[0mdict_tohoku\u001b[0m\u001b[1;33m)\u001b[0m\u001b[1;33m\u001b[0m\u001b[0m\n\u001b[0m",
      "\u001b[1;31mTypeError\u001b[0m: 'NoneType' object is not iterable"
     ]
    }
   ],
   "source": []
  },
  {
   "cell_type": "code",
   "execution_count": null,
   "metadata": {
    "collapsed": true
   },
   "outputs": [],
   "source": []
  },
  {
   "cell_type": "code",
   "execution_count": null,
   "metadata": {
    "collapsed": true
   },
   "outputs": [],
   "source": []
  }
 ],
 "metadata": {
  "kernelspec": {
   "display_name": "Python 3",
   "language": "python",
   "name": "python3"
  },
  "language_info": {
   "codemirror_mode": {
    "name": "ipython",
    "version": 3
   },
   "file_extension": ".py",
   "mimetype": "text/x-python",
   "name": "python",
   "nbconvert_exporter": "python",
   "pygments_lexer": "ipython3",
   "version": "3.5.1"
  }
 },
 "nbformat": 4,
 "nbformat_minor": 0
}
